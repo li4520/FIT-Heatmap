{
  "nbformat": 4,
  "nbformat_minor": 0,
  "metadata": {
    "colab": {
      "provenance": [],
      "toc_visible": true,
      "authorship_tag": "ABX9TyO40gI3CT4bqoNgehhzBOh6",
      "include_colab_link": true
    },
    "kernelspec": {
      "name": "python3",
      "display_name": "Python 3"
    },
    "language_info": {
      "name": "python"
    }
  },
  "cells": [
    {
      "cell_type": "markdown",
      "metadata": {
        "id": "view-in-github",
        "colab_type": "text"
      },
      "source": [
        "<a href=\"https://colab.research.google.com/github/li4520/FIT-Heatmap/blob/main/Youtube_Summarization_Goole_Pegasus.ipynb\" target=\"_parent\"><img src=\"https://colab.research.google.com/assets/colab-badge.svg\" alt=\"Open In Colab\"/></a>"
      ]
    },
    {
      "cell_type": "code",
      "source": [
        "!pip install transformers youtube-transcript-api\n"
      ],
      "metadata": {
        "colab": {
          "base_uri": "https://localhost:8080/"
        },
        "id": "lnDp5F3kipGY",
        "outputId": "a6633789-6fce-434d-dc0b-0490dd248a0c"
      },
      "execution_count": null,
      "outputs": [
        {
          "output_type": "stream",
          "name": "stdout",
          "text": [
            "Looking in indexes: https://pypi.org/simple, https://us-python.pkg.dev/colab-wheels/public/simple/\n",
            "Requirement already satisfied: transformers in /usr/local/lib/python3.8/dist-packages (4.26.1)\n",
            "Requirement already satisfied: youtube-transcript-api in /usr/local/lib/python3.8/dist-packages (0.5.0)\n",
            "Requirement already satisfied: numpy>=1.17 in /usr/local/lib/python3.8/dist-packages (from transformers) (1.21.6)\n",
            "Requirement already satisfied: packaging>=20.0 in /usr/local/lib/python3.8/dist-packages (from transformers) (23.0)\n",
            "Requirement already satisfied: regex!=2019.12.17 in /usr/local/lib/python3.8/dist-packages (from transformers) (2022.6.2)\n",
            "Requirement already satisfied: huggingface-hub<1.0,>=0.11.0 in /usr/local/lib/python3.8/dist-packages (from transformers) (0.12.0)\n",
            "Requirement already satisfied: requests in /usr/local/lib/python3.8/dist-packages (from transformers) (2.25.1)\n",
            "Requirement already satisfied: pyyaml>=5.1 in /usr/local/lib/python3.8/dist-packages (from transformers) (6.0)\n",
            "Requirement already satisfied: tokenizers!=0.11.3,<0.14,>=0.11.1 in /usr/local/lib/python3.8/dist-packages (from transformers) (0.13.2)\n",
            "Requirement already satisfied: filelock in /usr/local/lib/python3.8/dist-packages (from transformers) (3.9.0)\n",
            "Requirement already satisfied: tqdm>=4.27 in /usr/local/lib/python3.8/dist-packages (from transformers) (4.64.1)\n",
            "Requirement already satisfied: typing-extensions>=3.7.4.3 in /usr/local/lib/python3.8/dist-packages (from huggingface-hub<1.0,>=0.11.0->transformers) (4.4.0)\n",
            "Requirement already satisfied: urllib3<1.27,>=1.21.1 in /usr/local/lib/python3.8/dist-packages (from requests->transformers) (1.24.3)\n",
            "Requirement already satisfied: chardet<5,>=3.0.2 in /usr/local/lib/python3.8/dist-packages (from requests->transformers) (4.0.0)\n",
            "Requirement already satisfied: idna<3,>=2.5 in /usr/local/lib/python3.8/dist-packages (from requests->transformers) (2.10)\n",
            "Requirement already satisfied: certifi>=2017.4.17 in /usr/local/lib/python3.8/dist-packages (from requests->transformers) (2022.12.7)\n"
          ]
        }
      ]
    },
    {
      "cell_type": "code",
      "execution_count": null,
      "metadata": {
        "id": "7OpZDZlLibNE"
      },
      "outputs": [],
      "source": [
        "import requests\n",
        "from transformers import PegasusForConditionalGeneration, PegasusTokenizer\n",
        "from transformers import AutoTokenizer, AutoModelForSeq2SeqLM\n",
        "from youtube_transcript_api import YouTubeTranscriptApi as ytapi"
      ]
    },
    {
      "cell_type": "code",
      "source": [
        "# Define a function to extract the transcript for a given YouTube video ID\n",
        "def extract_transcript(video_id):\n",
        "    transcript_list = YouTubeTranscriptApi.get_transcript(video_id)\n",
        "    if not transcript_list:\n",
        "        raise ValueError('No transcript found for the given video ID.')\n",
        "    transcript = ' '.join([t['text'] for t in transcript_list])\n",
        "    return transcript"
      ],
      "metadata": {
        "id": "W8YPSIIjicqT"
      },
      "execution_count": null,
      "outputs": []
    },
    {
      "cell_type": "code",
      "source": [
        "# Prompt the user to enter a YouTube link\n",
        "link = input(\"Enter YouTube link: \")"
      ],
      "metadata": {
        "colab": {
          "base_uri": "https://localhost:8080/"
        },
        "id": "ulFLq7yzknal",
        "outputId": "b20d0199-b604-4cc6-bd66-0bb483bd8e39"
      },
      "execution_count": null,
      "outputs": [
        {
          "name": "stdout",
          "output_type": "stream",
          "text": [
            "Enter YouTube link: https://www.youtube.com/watch?v=Fs4FysXp9KQ\n"
          ]
        }
      ]
    },
    {
      "cell_type": "code",
      "source": [
        "# Extract the video ID from the link\n",
        "def videoID(link):\n",
        "    video_id = link.split(\"=\")[1]\n",
        "    return video_id\n"
      ],
      "metadata": {
        "id": "GEdcAK5PkpSR"
      },
      "execution_count": null,
      "outputs": []
    },
    {
      "cell_type": "code",
      "source": [
        "video_id = videoID(link)\n",
        "print(video_id)"
      ],
      "metadata": {
        "colab": {
          "base_uri": "https://localhost:8080/"
        },
        "id": "8n7opmZwomzC",
        "outputId": "3c3e4d5e-268e-4351-8d13-d061ee970ea8"
      },
      "execution_count": null,
      "outputs": [
        {
          "output_type": "stream",
          "name": "stdout",
          "text": [
            "Fs4FysXp9KQ\n"
          ]
        }
      ]
    },
    {
      "cell_type": "code",
      "source": [
        "# Extract the transcript of the video\n",
        "transcript = extract_transcript(video_id)\n",
        "print(transcript)"
      ],
      "metadata": {
        "colab": {
          "base_uri": "https://localhost:8080/"
        },
        "id": "eyA4r_i-pvQ4",
        "outputId": "1915dbbc-116f-4171-b717-2fdbfaef4e6f"
      },
      "execution_count": null,
      "outputs": [
        {
          "output_type": "stream",
          "name": "stdout",
          "text": [
            "PULLBACK THAT IS THE MESSAGE FROM ONE OF  WALL STREET'S BIGGEST BULLS WHO  SAYS STOCKS CAN STILL RALLY SOME 18% BY YEAR-END. JOINING ME NOW, CNBC CONTRIBUTOR TOM LEE OF FUND STRATEGY GLOBAL  ADVISORS RIGHT HERE ONSET WITH ME IT'S GOOD TO SEE YOU WELCOME BACK THAT'S THE HEADLINE WE'RE GOING  TO START WITH, 4,800 BY  YEAR-END I WANT YOU TO TELL ME HOW. >> I THINK IF I HAD TO SAY MARKET INTERNALS, IT LOOKS LIKE  IT'S BAKED IN THE CAKE IN THE  SENSE THAT MARKETS THAT MAKE THIS MUCH PROGRESS BY DAY 26, 16 OUT OF 17 HAVE BEEN OVER DOUBLE-DIGIT RETURNS SO I THINK  THE MARKET'S REVEALED ITS HAND FROM A FUNDAMENTAL PERSPECTIVE,  I THINK THE NARRATIVE IS INFLATION IS BECOMING LESS OF A  RISK TO THE UPSIDE AND FROM A  FED'S PERSPECTIVE, THAT'S A MORE PREDICTABLE FED. I THINK THAT ALLOWS VOLATILITY TO COME DOWN I THINK MULTIPLES EXPAND AND EARNINGS HOLD UP NICELY, AND WE  GET, YOU KNOW, INVESTORS BUYING  STOCKS, BUYING THE DIP AGAIN >> SO, I LOVE WHAT THE SHOW  BEFORE US DID RIGHT OFF THE TOP, THE WAY THEY PUT THE DEBATE, DON'T FIGHT THE FED, VERSUS  DON'T FIGHT THE TAPE THE FED IS STILL HIGHLY ENGAGED. YOU OBVIOUSLY ARE SAYING, DON'T  FIGHT THE TAPE THE SIGNS IN THE MARKET TO THIS  POINT AT THE BEGINNING PART OF THIS YEAR TELL YOU THAT NONE OF  THE OTHER STUFF MATTERS ANYMORE. INFLATION'S COMING DOWN ENOUGH,  THERE ARE TOO MANY GOOD SIGNS IN THE MARKET TO GO BACK NOW? >> IT WOULD BE UNPRECEDENTED,  SCOTT. AND JUST IN TERMS OF INTERNALS,  BECAUSE WE HAVE HAD SUCH A BREADTH EXPANSION AND THE  MARKET'S PRODUCING THIS MUCH UPSIDE IN SUCH A SHORT TIME, IT'S NEVER HAPPENED IN A BEAR  MARKET, BUT WHEN INVESTORS SAY,  DON'T FIGHT THE FED, I THINK THAT THEY'RE FORGETTING THAT THERE'S -- THERE'S NOT JUST -- FED IS NOT A BINARY MODE FED IS NOT JUST CUTTING OR HIKING THERE'S ALSO THE FED THAT'S  TRYING TO GRADUALLY AND BE PREDICTABLE ON MONETARY POLICY THAT'S THE FED OF THE '90s THE FED WAS RAISING RATES FOR  TEN YEARS AND THE STOCK MARKET HAD DOUBLE-DIGIT GAINS, SO I THINK PREDICTABLE RATE INCREASES IS NOT THE SAME AS THE FED WANTING FINANCIAL CONDITIONS TO  TIGHTEN, TO LEAD TO A RECESSION. >> WHAT IF THEY'RE STILL UNPREDICTABLE? THAT JOBS REPORT WAS PRETTY HOT. WHAT HAPPENS IF THE CPI IS AS  WELL WHAT HAPPENS IF SUBSEQUENT INFLATION READS ARE NOT AS GOOD  AS WE THINK THEY'RE GOING TO BE? I I FEEL LIKE THINGS ARE A BIT UNCERTAIN, AS JAMIE DIMON WOULD  SAY THE OTHER DAY, IT'S TOO  EARLY TO DECLARE VICTORY >> YOU'RE RIGHT. IT'S TOO EARLY TO DECLARE  VICTORY, BUT THERE'S A DIFFERENCE BETWEEN THE FED REACTING TO EVERY DATA POINT VERSUS A FED THAT WANTS TO BE  PREDICTABLE. IT TOOK THREE GOOD INFLATION REPORTS BEFORE THE FED EVEN  STARTED TO USE THE WORD, DISINFLATION, BUT FROM DECEMBER  TO FEBRUARY, THEY WENT FROM ZERO CITATIONS OF DISINFLATION TO 13. SO, IF THE FEBRUARY CPI REPORT IS A LITTLE BIT HOT, WHICH WE  DON'T EXPECT, WE ACTUALLY THINK  IT'S GOING TO BE ANOTHER DOWNSIDE REIT, THAT'S A  PREDICTABLE FED. WE HAD ONE SOMEWHAT HOT JOBS REPORT IF THE FED STARTS RAISING RATES  THERE, THAT'S NOT -- THAT'S A  FED THAT'S REACTIVE TO DATA  POINTS >> BUT THEY'RE TELLING US TO THIS POINT, AREN'T THEY, THAT  THEY'RE GOING TO BE DATA DEPENDENT NOW. THEY'RE NOT ON SOME  PREDETERMINED PATH LIKE SOME IN  THE MARKET HAD FEARED THEY WERE  AT ONE POINT THEY ACTUALLY SUGGESTED THEY'RE  GOING TO BE DATA DEPENDENT >> YEAH, THERE'S A DIFFERENCE  BETWEEN BEING DATA DEPENDENT AND DATA REACTIVE. I THINK THE ONE THING THAT'S GOING TO BE IMPORTANT FOR THE -- IS FOR THE FED'S REACTION  FUNCTION TO MAKE SENSE I THINK MOST OF US WOULD AGREE,  A LOT OF THE ECONOMIC DATA THAT  THEY CITE, CPI AND JOBS REPORTS, IS BACKWARDS LOOKING FOR INSTANCE, HIGH-FREQUENCY DATA SHOWED INFLATION WAS  WEAKENING SINCE JUNE, BUT THE  FIRST GOOD INFLATION REPORT  WASN'T UNTIL OCTOBER AND IT  TANKED SINCE THEN. THE FED HADN'T EVEN TALKED ABOUT PROGRESS ON INFLATION UNTIL  FEBRUARY OF THIS YEAR, ANOTHER FOUR MONTHS LATER. I THINK IF THEY'RE GOING TO  START TO TALK ABOUT JOBS REPORTS, AS THE REASON TO MOVE MONETARY POLICY, IT IS A LITTLE \n"
          ]
        }
      ]
    },
    {
      "cell_type": "code",
      "source": [
        "# Preprocess the transcript for summarization\n",
        "print(video_id)\n",
        "tokenizer = AutoTokenizer.from_pretrained('google/pegasus-large')\n",
        "input_ids = tokenizer.encode(transcript, truncation=True, max_length=1024, padding=\"longest\", return_tensors='pt')\n"
      ],
      "metadata": {
        "colab": {
          "base_uri": "https://localhost:8080/"
        },
        "id": "hF72TjnOp5zF",
        "outputId": "428724df-18af-41ab-a5ae-ebdf37d667bf"
      },
      "execution_count": null,
      "outputs": [
        {
          "output_type": "stream",
          "name": "stdout",
          "text": [
            "Fs4FysXp9KQ\n"
          ]
        }
      ]
    },
    {
      "cell_type": "code",
      "source": [
        "print(tokenizer)\n",
        "print(input_ids)"
      ],
      "metadata": {
        "colab": {
          "base_uri": "https://localhost:8080/"
        },
        "id": "fDw-uBfCrMIu",
        "outputId": "f3f50423-1e32-4f08-fd33-f87f519b1ba6"
      },
      "execution_count": null,
      "outputs": [
        {
          "output_type": "stream",
          "name": "stdout",
          "text": [
            "PegasusTokenizerFast(name_or_path='google/pegasus-large', vocab_size=96103, model_max_length=1024, is_fast=True, padding_side='right', truncation_side='right', special_tokens={'eos_token': '</s>', 'unk_token': '<unk>', 'pad_token': '<pad>', 'mask_token': '<mask_2>', 'additional_special_tokens': ['<mask_1>', '<unk_2>', '<unk_3>', '<unk_4>', '<unk_5>', '<unk_6>', '<unk_7>', '<unk_8>', '<unk_9>', '<unk_10>', '<unk_11>', '<unk_12>', '<unk_13>', '<unk_14>', '<unk_15>', '<unk_16>', '<unk_17>', '<unk_18>', '<unk_19>', '<unk_20>', '<unk_21>', '<unk_22>', '<unk_23>', '<unk_24>', '<unk_25>', '<unk_26>', '<unk_27>', '<unk_28>', '<unk_29>', '<unk_30>', '<unk_31>', '<unk_32>', '<unk_33>', '<unk_34>', '<unk_35>', '<unk_36>', '<unk_37>', '<unk_38>', '<unk_39>', '<unk_40>', '<unk_41>', '<unk_42>', '<unk_43>', '<unk_44>', '<unk_45>', '<unk_46>', '<unk_47>', '<unk_48>', '<unk_49>', '<unk_50>', '<unk_51>', '<unk_52>', '<unk_53>', '<unk_54>', '<unk_55>', '<unk_56>', '<unk_57>', '<unk_58>', '<unk_59>', '<unk_60>', '<unk_61>', '<unk_62>', '<unk_63>', '<unk_64>', '<unk_65>', '<unk_66>', '<unk_67>', '<unk_68>', '<unk_69>', '<unk_70>', '<unk_71>', '<unk_72>', '<unk_73>', '<unk_74>', '<unk_75>', '<unk_76>', '<unk_77>', '<unk_78>', '<unk_79>', '<unk_80>', '<unk_81>', '<unk_82>', '<unk_83>', '<unk_84>', '<unk_85>', '<unk_86>', '<unk_87>', '<unk_88>', '<unk_89>', '<unk_90>', '<unk_91>', '<unk_92>', '<unk_93>', '<unk_94>', '<unk_95>', '<unk_96>', '<unk_97>', '<unk_98>', '<unk_99>', '<unk_100>', '<unk_101>', '<unk_102>']})\n",
            "tensor([[  881, 49531, 53866,  ...,   110, 47212,     1]])\n"
          ]
        }
      ]
    },
    {
      "cell_type": "code",
      "source": [
        "# Generate the summary using the Pegasus model\n",
        "model = PegasusForConditionalGeneration.from_pretrained('google/pegasus-large')\n",
        "model.eval()\n",
        "summary_ids = model.generate(input_ids, max_length=256, num_beams=4, early_stopping=True)\n",
        "summary = tokenizer.decode(summary_ids[0], skip_special_tokens=True)\n"
      ],
      "metadata": {
        "id": "npsHK1UXuIDx"
      },
      "execution_count": null,
      "outputs": []
    },
    {
      "cell_type": "code",
      "source": [
        "# Print the summary\n",
        "print(\"Video summary:\")\n",
        "print(summary)"
      ],
      "metadata": {
        "colab": {
          "base_uri": "https://localhost:8080/"
        },
        "id": "rjJGiaEduS03",
        "outputId": "419f1060-a8ae-427e-840d-c0db0b324a79"
      },
      "execution_count": null,
      "outputs": [
        {
          "output_type": "stream",
          "name": "stdout",
          "text": [
            "Video summary:\n",
            ">> I THINK IF I HAD TO SAY MARKET INTERNALS, IT LOOKS LIKE IT'S BAKED IN THE CAKE IN THE SENSE THAT MARKETS THAT MAKE THIS MUCH PROGRESS BY EVERY DAY 26, 16 OUT OF 17 HAVE BEEN OVER DOUBLE-DIGIT RETURNS SO I THINK THE MARKET'S REVEALED ITS HAND FROM A FUNDAMENTAL PERSPECTIVE, I THINK THE NARRATIVE IS INFLATION IS BECOMING LESS OF A RISK TO THE UPSIDE AND FROM A FED'S PERSPECTIVE, THAT'S A MORE PREDICTABLE FED.\n"
          ]
        }
      ]
    },
    {
      "cell_type": "code",
      "source": [],
      "metadata": {
        "id": "OvygEFcyu8z3"
      },
      "execution_count": null,
      "outputs": []
    }
  ]
}